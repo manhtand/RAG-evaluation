{
 "cells": [
  {
   "cell_type": "code",
   "execution_count": null,
   "metadata": {
    "collapsed": true
   },
   "outputs": [],
   "source": [
    "import nest_asyncio\n",
    "\n",
    "nest_asyncio.apply()\n",
    "\n",
    "import os\n",
    "from llama_index.llms.openai import OpenAI\n",
    "from llama_index.embeddings.huggingface import HuggingFaceEmbedding\n",
    "from llama_index.core.node_parser import SentenceSplitter\n",
    "from llama_index.core import VectorStoreIndex, SimpleDirectoryReader\n",
    "from llama_index.core import Settings\n",
    "\n",
    "from llama_index.llms.llama_api import LlamaAPI\n",
    "from llama_index.core import QueryBundle\n",
    "from llama_index.core.indices.query.schema import QueryType\n",
    "\n",
    "os.environ[\"OPENAI_API_KEY\"] = \"\"\n",
    "os.environ[\"COHERE_API_KEY\"] = \"\"\n",
    "os.environ[\"LLAMA_API_KEY\"] = \"\"\n",
    "\n",
    "llm = OpenAI(model=\"gpt-4o-mini\", temperature=0.0)\n",
    "filter_llm = LlamaAPI(model=\"llama3.3-70b\", api_key=os.environ[\"LLAMA_API_KEY\"])\n",
    "Settings.embed_model = HuggingFaceEmbedding(model_name=\"BAAI/bge-small-en-v1.5\")\n",
    "\n",
    "documents = SimpleDirectoryReader(\"data\").load_data()\n",
    "splitter = SentenceSplitter(chunk_size=512, chunk_overlap=20)\n",
    "nodes = splitter.get_nodes_from_documents(documents)"
   ]
  },
  {
   "cell_type": "code",
   "execution_count": null,
   "outputs": [],
   "source": [
    "from transformers import T5Tokenizer, T5ForConditionalGeneration\n",
    "\n",
    "tokenizer = T5Tokenizer.from_pretrained(\"google-t5/t5-small\")\n",
    "model = T5ForConditionalGeneration.from_pretrained(\"google-t5/t5-small\")"
   ],
   "metadata": {
    "collapsed": false
   }
  },
  {
   "cell_type": "code",
   "execution_count": null,
   "outputs": [],
   "source": [
    "from llama_index.core.evaluation import generate_question_context_pairs\n",
    "\n",
    "qa_dataset = generate_question_context_pairs(\n",
    "    nodes,\n",
    "    llm=llm,\n",
    "    num_questions_per_chunk=1\n",
    ")"
   ],
   "metadata": {
    "collapsed": false
   }
  },
  {
   "cell_type": "code",
   "execution_count": null,
   "outputs": [],
   "source": [
    "from llama_index.core import PromptTemplate\n",
    "\n",
    "template = (\n",
    "    \"You are an intelligent assistant. Analyze the following knowledge strip for the query:\\n\"\n",
    "    \"Query: {query}\\n\"\n",
    "    \"Knowledge Strip: {strip}\\n\"\n",
    "\n",
    "    \"Tasks:\\n\"\n",
    "    \"Evaluate the following knowledge strip and determine if it is pertinent to the query:\\n\\n\"\n",
    "\n",
    "    \"Respond with 'relevant' or 'irrelevant'\\n\"\n",
    ")\n",
    "\n",
    "assess_relevance_template = PromptTemplate(template)"
   ],
   "metadata": {
    "collapsed": false
   }
  },
  {
   "cell_type": "code",
   "execution_count": null,
   "outputs": [],
   "source": [
    "from llama_index.core.retrievers import BaseRetriever, VectorIndexRetriever\n",
    "from llama_index.core.schema import NodeWithScore\n",
    "from typing import List\n",
    "\n",
    "class CustomRetriever(BaseRetriever):\n",
    "    def __init__(self, retriever: VectorIndexRetriever) -> None:\n",
    "        self._retriever = retriever\n",
    "        super().__init__()\n",
    "\n",
    "    def _split_into_strips(self, text: str, max_length: int = 100) -> List[str]:\n",
    "        words = text.split()\n",
    "        return [\" \".join(words[i:i + max_length]) for i in range(0, len(words), max_length)]\n",
    "\n",
    "    def _assess_relevance(self, query: str, strips: List[str]) -> List[str]:\n",
    "        relevant_strips = []\n",
    "\n",
    "        for strip in strips:\n",
    "            prompt = assess_relevance_template.format(query=query, strip=strip)\n",
    "            response = llm.complete(prompt)\n",
    "            print(response)\n",
    "\n",
    "            if response.text.lower() == \"relevant\":\n",
    "                relevant_strips.append(strip)\n",
    "        return relevant_strips\n",
    "\n",
    "    def _retrieve(self, query_bundle: QueryBundle) -> List[NodeWithScore]:\n",
    "        retrieved_nodes = self._retriever.retrieve(query_bundle)\n",
    "        refined_nodes = []\n",
    "        query = query_bundle.query_str\n",
    "\n",
    "        for node_with_score in retrieved_nodes:\n",
    "            content = node_with_score.node.get_content()\n",
    "            strips = self._split_into_strips(content)\n",
    "            relevant_strips = self._assess_relevance(query, strips)\n",
    "\n",
    "            if relevant_strips:\n",
    "                refined_content = \" \".join(relevant_strips)\n",
    "                node_with_score.node.set_content(refined_content)\n",
    "                refined_nodes.append(node_with_score)\n",
    "\n",
    "        return retrieved_nodes\n",
    "\n",
    "    async def _aretrieve(self, query_bundle: QueryBundle) -> List[NodeWithScore]:\n",
    "        return self._retrieve(query_bundle)\n",
    "\n",
    "    async def aretrieve(self, str_or_query_bundle: QueryType) -> List[NodeWithScore]:\n",
    "        if isinstance(str_or_query_bundle, str):\n",
    "            str_or_query_bundle = QueryBundle(str_or_query_bundle)\n",
    "\n",
    "        return await self._aretrieve(str_or_query_bundle)"
   ],
   "metadata": {
    "collapsed": false
   }
  },
  {
   "cell_type": "code",
   "execution_count": null,
   "outputs": [],
   "source": [
    "vector_index = VectorStoreIndex(nodes)\n",
    "vector_retriever = VectorIndexRetriever(\n",
    "    index=vector_index,\n",
    "    similarity_top_k=2\n",
    ")\n",
    "\n",
    "custom_retriever = CustomRetriever(vector_retriever)\n",
    "\n",
    "from llama_index.core.evaluation import RetrieverEvaluator\n",
    "\n",
    "metrics = [\"hit_rate\", \"mrr\", \"precision\", \"recall\", \"ap\", \"ndcg\"]\n",
    "evaluator = RetrieverEvaluator.from_metric_names(\n",
    "    metrics, retriever=custom_retriever\n",
    ")\n",
    "results = await evaluator.aevaluate_dataset(qa_dataset)"
   ],
   "metadata": {
    "collapsed": false
   }
  },
  {
   "cell_type": "code",
   "execution_count": null,
   "outputs": [],
   "source": [
    "import pandas as pd\n",
    "\n",
    "def display_results(name, eval_results):\n",
    "    \"\"\"Display results from evaluate.\"\"\"\n",
    "\n",
    "    metric_dicts = []\n",
    "    for eval_result in eval_results:\n",
    "        metric_dict = eval_result.metric_vals_dict\n",
    "        metric_dicts.append(metric_dict)\n",
    "\n",
    "    full_df = pd.DataFrame(metric_dicts)\n",
    "\n",
    "    columns = {\n",
    "        \"retrievers\": [name],\n",
    "        **{k: [full_df[k].mean()] for k in metrics},\n",
    "    }\n",
    "\n",
    "    metric_df = pd.DataFrame(columns)\n",
    "\n",
    "    return metric_df"
   ],
   "metadata": {
    "collapsed": false
   }
  },
  {
   "cell_type": "code",
   "execution_count": null,
   "outputs": [],
   "source": [
    "display_results(\"filter\", results)"
   ],
   "metadata": {
    "collapsed": false
   }
  }
 ],
 "metadata": {
  "kernelspec": {
   "display_name": "Python 3",
   "language": "python",
   "name": "python3"
  },
  "language_info": {
   "codemirror_mode": {
    "name": "ipython",
    "version": 2
   },
   "file_extension": ".py",
   "mimetype": "text/x-python",
   "name": "python",
   "nbconvert_exporter": "python",
   "pygments_lexer": "ipython2",
   "version": "2.7.6"
  }
 },
 "nbformat": 4,
 "nbformat_minor": 0
}
