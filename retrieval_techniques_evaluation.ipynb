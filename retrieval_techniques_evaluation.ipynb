{
 "cells": [
  {
   "cell_type": "code",
   "execution_count": null,
   "metadata": {
    "collapsed": true
   },
   "outputs": [],
   "source": [
    "import nest_asyncio\n",
    "\n",
    "nest_asyncio.apply()\n",
    "\n",
    "import os\n",
    "from llama_index.llms.openai import OpenAI\n",
    "from llama_index.embeddings.huggingface import HuggingFaceEmbedding\n",
    "from llama_index.core.node_parser import SentenceSplitter\n",
    "import pandas as pd\n",
    "\n",
    "os.environ[\"OPENAI_API_KEY\"] = \"\"\n",
    "\n",
    "from llama_index.core import VectorStoreIndex, SimpleDirectoryReader\n",
    "from llama_index.core import Settings\n",
    "\n",
    "llm = OpenAI(model=\"gpt-4o-mini\", temperature=0.0)\n",
    "Settings.embed_model = HuggingFaceEmbedding(model_name=\"BAAI/bge-small-en-v1.5\")\n",
    "\n",
    "documents = SimpleDirectoryReader(\"data\").load_data()\n",
    "splitter = SentenceSplitter(chunk_size=512, chunk_overlap=20)\n",
    "nodes = splitter.get_nodes_from_documents(documents)"
   ]
  },
  {
   "cell_type": "code",
   "execution_count": null,
   "outputs": [],
   "source": [
    "from llama_index.retrievers.bm25 import BM25Retriever\n",
    "import Stemmer\n",
    "from llama_index.core.retrievers import QueryFusionRetriever\n",
    "\n",
    "bm25_retriever = BM25Retriever.from_defaults(\n",
    "    nodes=nodes,\n",
    "    similarity_top_k=2,\n",
    "    stemmer=Stemmer.Stemmer(\"english\"),\n",
    "    language=\"english\",\n",
    ")\n",
    "\n",
    "dense_retriever = VectorStoreIndex(nodes).as_retriever(similarity_top_k=2)\n",
    "\n",
    "hybrid_retriever = QueryFusionRetriever(\n",
    "    [\n",
    "        dense_retriever,\n",
    "        bm25_retriever\n",
    "    ],\n",
    "    num_queries=1,\n",
    "    use_async=True\n",
    ")"
   ],
   "metadata": {
    "collapsed": false
   }
  },
  {
   "cell_type": "code",
   "execution_count": null,
   "outputs": [],
   "source": [
    "from llama_index.core.evaluation import (\n",
    "    generate_question_context_pairs\n",
    ")\n",
    "\n",
    "qa_dataset = generate_question_context_pairs(\n",
    "    nodes, llm=llm, num_questions_per_chunk=1\n",
    ")\n",
    "\n",
    "queries = qa_dataset.queries.values()"
   ],
   "metadata": {
    "collapsed": false
   }
  },
  {
   "cell_type": "code",
   "execution_count": null,
   "outputs": [],
   "source": [
    "from llama_index.core.evaluation import RetrieverEvaluator\n",
    "\n",
    "metrics = [\"hit_rate\", \"mrr\", \"precision\", \"recall\", \"ap\", \"ndcg\"]\n",
    "\n",
    "bm25_retriever_evaluator = RetrieverEvaluator.from_metric_names(\n",
    "    metrics, retriever=bm25_retriever\n",
    ")\n",
    "bm25_eval_results = await bm25_retriever_evaluator.aevaluate_dataset(qa_dataset)\n",
    "\n",
    "dense_retriever_evaluator = RetrieverEvaluator.from_metric_names(\n",
    "    metrics, retriever=dense_retriever\n",
    ")\n",
    "dense_eval_results = await dense_retriever_evaluator.aevaluate_dataset(qa_dataset)\n",
    "\n",
    "hybrid_retriever_evaluator = RetrieverEvaluator.from_metric_names(\n",
    "    metrics, retriever=hybrid_retriever\n",
    ")\n",
    "hybrid_eval_results = await hybrid_retriever_evaluator.aevaluate_dataset(qa_dataset)"
   ],
   "metadata": {
    "collapsed": false
   }
  },
  {
   "cell_type": "code",
   "execution_count": null,
   "outputs": [],
   "source": [
    "def display_all_results(results_dict, metrics):\n",
    "    all_results = []\n",
    "\n",
    "    for name, eval_results in results_dict.items():\n",
    "        metric_dicts = []\n",
    "        for eval_result in eval_results:\n",
    "            metric_dict = eval_result.metric_vals_dict\n",
    "            metric_dicts.append(metric_dict)\n",
    "\n",
    "        # Compute averages for all metrics\n",
    "        full_df = pd.DataFrame(metric_dicts)\n",
    "        avg_metrics = {metric: full_df[metric].mean() for metric in metrics}\n",
    "\n",
    "        # Add retriever name and metrics to results\n",
    "        all_results.append({\"retriever\": name, **avg_metrics})\n",
    "\n",
    "        results_df = pd.DataFrame(all_results)\n",
    "    return results_df"
   ],
   "metadata": {
    "collapsed": false
   }
  },
  {
   "cell_type": "code",
   "execution_count": null,
   "outputs": [],
   "source": [
    "retriever_results = {\n",
    "    \"BM25\": bm25_eval_results,\n",
    "    \"Dense\": dense_eval_results,\n",
    "    \"Hybrid\": hybrid_eval_results,\n",
    "}\n",
    "display_all_results(retriever_results, metrics)"
   ],
   "metadata": {
    "collapsed": false
   }
  }
 ],
 "metadata": {
  "kernelspec": {
   "display_name": "Python 3",
   "language": "python",
   "name": "python3"
  },
  "language_info": {
   "codemirror_mode": {
    "name": "ipython",
    "version": 2
   },
   "file_extension": ".py",
   "mimetype": "text/x-python",
   "name": "python",
   "nbconvert_exporter": "python",
   "pygments_lexer": "ipython2",
   "version": "2.7.6"
  }
 },
 "nbformat": 4,
 "nbformat_minor": 0
}
