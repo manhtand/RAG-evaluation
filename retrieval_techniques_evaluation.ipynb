{
 "cells": [
  {
   "cell_type": "code",
   "execution_count": 1,
   "metadata": {
    "collapsed": true,
    "ExecuteTime": {
     "end_time": "2025-01-02T20:19:55.962577500Z",
     "start_time": "2025-01-02T20:19:34.722030700Z"
    }
   },
   "outputs": [],
   "source": [
    "import nest_asyncio\n",
    "\n",
    "nest_asyncio.apply()\n",
    "\n",
    "import os\n",
    "from llama_index.llms.openai import OpenAI\n",
    "from llama_index.embeddings.huggingface import HuggingFaceEmbedding\n",
    "from llama_index.core.node_parser import SentenceSplitter\n",
    "import pandas as pd\n",
    "\n",
    "os.environ[\"OPENAI_API_KEY\"] = \"\"\n",
    "\n",
    "from llama_index.core import VectorStoreIndex, SimpleDirectoryReader\n",
    "from llama_index.core import Settings\n",
    "\n",
    "llm = OpenAI(model=\"gpt-4o-mini\", temperature=0.0)\n",
    "Settings.embed_model = HuggingFaceEmbedding(model_name=\"BAAI/bge-small-en-v1.5\")\n",
    "\n",
    "documents = SimpleDirectoryReader(\"data\").load_data()\n",
    "splitter = SentenceSplitter(chunk_size=512, chunk_overlap=20)\n",
    "nodes = splitter.get_nodes_from_documents(documents)"
   ]
  },
  {
   "cell_type": "code",
   "execution_count": 2,
   "outputs": [
    {
     "name": "stdout",
     "output_type": "stream",
     "text": [
      "resource module not available on Windows\n"
     ]
    }
   ],
   "source": [
    "from llama_index.retrievers.bm25 import BM25Retriever\n",
    "import Stemmer\n",
    "from llama_index.core.retrievers import QueryFusionRetriever\n",
    "\n",
    "bm25_retriever = BM25Retriever.from_defaults(\n",
    "    nodes=nodes,\n",
    "    similarity_top_k=2,\n",
    "    stemmer=Stemmer.Stemmer(\"english\"),\n",
    "    language=\"english\",\n",
    ")\n",
    "\n",
    "dense_retriever = VectorStoreIndex(nodes).as_retriever(similarity_top_k=2)\n",
    "\n",
    "hybrid_retriever = QueryFusionRetriever(\n",
    "    [\n",
    "        dense_retriever,\n",
    "        bm25_retriever\n",
    "    ],\n",
    "    num_queries=1,\n",
    "    use_async=True\n",
    ")"
   ],
   "metadata": {
    "collapsed": false,
    "ExecuteTime": {
     "end_time": "2025-01-02T20:21:31.090136900Z",
     "start_time": "2025-01-02T20:19:55.963579Z"
    }
   }
  },
  {
   "cell_type": "code",
   "execution_count": 3,
   "outputs": [
    {
     "name": "stderr",
     "output_type": "stream",
     "text": [
      "100%|██████████| 584/584 [10:07<00:00,  1.04s/it]\n"
     ]
    }
   ],
   "source": [
    "from llama_index.core.evaluation import (\n",
    "    generate_question_context_pairs\n",
    ")\n",
    "\n",
    "qa_dataset = generate_question_context_pairs(\n",
    "    nodes, llm=llm, num_questions_per_chunk=1\n",
    ")\n",
    "\n",
    "queries = qa_dataset.queries.values()"
   ],
   "metadata": {
    "collapsed": false,
    "ExecuteTime": {
     "end_time": "2025-01-02T20:31:38.878850900Z",
     "start_time": "2025-01-02T20:21:31.090136900Z"
    }
   }
  },
  {
   "cell_type": "code",
   "execution_count": 4,
   "outputs": [],
   "source": [
    "from llama_index.core.evaluation import RetrieverEvaluator\n",
    "\n",
    "metrics = [\"hit_rate\", \"mrr\", \"precision\", \"recall\", \"ap\", \"ndcg\"]\n",
    "\n",
    "bm25_retriever_evaluator = RetrieverEvaluator.from_metric_names(\n",
    "    metrics, retriever=bm25_retriever\n",
    ")\n",
    "bm25_eval_results = await bm25_retriever_evaluator.aevaluate_dataset(qa_dataset)\n",
    "\n",
    "dense_retriever_evaluator = RetrieverEvaluator.from_metric_names(\n",
    "    metrics, retriever=dense_retriever\n",
    ")\n",
    "dense_eval_results = await dense_retriever_evaluator.aevaluate_dataset(qa_dataset)\n",
    "\n",
    "hybrid_retriever_evaluator = RetrieverEvaluator.from_metric_names(\n",
    "    metrics, retriever=hybrid_retriever\n",
    ")\n",
    "hybrid_eval_results = await hybrid_retriever_evaluator.aevaluate_dataset(qa_dataset)"
   ],
   "metadata": {
    "collapsed": false,
    "ExecuteTime": {
     "end_time": "2025-01-02T20:32:12.757387900Z",
     "start_time": "2025-01-02T20:31:38.877852700Z"
    }
   }
  },
  {
   "cell_type": "code",
   "execution_count": 5,
   "outputs": [],
   "source": [
    "def display_all_results(results_dict, metrics):\n",
    "    all_results = []\n",
    "\n",
    "    for name, eval_results in results_dict.items():\n",
    "        metric_dicts = []\n",
    "        for eval_result in eval_results:\n",
    "            metric_dict = eval_result.metric_vals_dict\n",
    "            metric_dicts.append(metric_dict)\n",
    "\n",
    "        # Compute averages for all metrics\n",
    "        full_df = pd.DataFrame(metric_dicts)\n",
    "        avg_metrics = {metric: full_df[metric].mean() for metric in metrics}\n",
    "\n",
    "        # Add retriever name and metrics to results\n",
    "        all_results.append({\"retriever\": name, **avg_metrics})\n",
    "\n",
    "        results_df = pd.DataFrame(all_results)\n",
    "    return results_df"
   ],
   "metadata": {
    "collapsed": false,
    "ExecuteTime": {
     "end_time": "2025-01-02T20:32:12.761185900Z",
     "start_time": "2025-01-02T20:32:12.756387400Z"
    }
   }
  },
  {
   "cell_type": "code",
   "execution_count": 6,
   "outputs": [
    {
     "data": {
      "text/plain": "  retriever  hit_rate       mrr  precision    recall        ap      ndcg\n0      BM25  0.847603  0.691495   0.211901  0.847603  0.691495  0.731401\n1     Dense  0.905822  0.763984   0.226455  0.905822  0.763984  0.800100\n2    Hybrid  0.751712  0.662671   0.375856  0.751712  0.662671  0.685987",
      "text/html": "<div>\n<style scoped>\n    .dataframe tbody tr th:only-of-type {\n        vertical-align: middle;\n    }\n\n    .dataframe tbody tr th {\n        vertical-align: top;\n    }\n\n    .dataframe thead th {\n        text-align: right;\n    }\n</style>\n<table border=\"1\" class=\"dataframe\">\n  <thead>\n    <tr style=\"text-align: right;\">\n      <th></th>\n      <th>retriever</th>\n      <th>hit_rate</th>\n      <th>mrr</th>\n      <th>precision</th>\n      <th>recall</th>\n      <th>ap</th>\n      <th>ndcg</th>\n    </tr>\n  </thead>\n  <tbody>\n    <tr>\n      <th>0</th>\n      <td>BM25</td>\n      <td>0.847603</td>\n      <td>0.691495</td>\n      <td>0.211901</td>\n      <td>0.847603</td>\n      <td>0.691495</td>\n      <td>0.731401</td>\n    </tr>\n    <tr>\n      <th>1</th>\n      <td>Dense</td>\n      <td>0.905822</td>\n      <td>0.763984</td>\n      <td>0.226455</td>\n      <td>0.905822</td>\n      <td>0.763984</td>\n      <td>0.800100</td>\n    </tr>\n    <tr>\n      <th>2</th>\n      <td>Hybrid</td>\n      <td>0.751712</td>\n      <td>0.662671</td>\n      <td>0.375856</td>\n      <td>0.751712</td>\n      <td>0.662671</td>\n      <td>0.685987</td>\n    </tr>\n  </tbody>\n</table>\n</div>"
     },
     "execution_count": 6,
     "metadata": {},
     "output_type": "execute_result"
    }
   ],
   "source": [
    "retriever_results = {\n",
    "    \"BM25\": bm25_eval_results,\n",
    "    \"Dense\": dense_eval_results,\n",
    "    \"Hybrid\": hybrid_eval_results,\n",
    "}\n",
    "display_all_results(retriever_results, metrics)"
   ],
   "metadata": {
    "collapsed": false,
    "ExecuteTime": {
     "end_time": "2025-01-02T20:32:12.787218400Z",
     "start_time": "2025-01-02T20:32:12.763186800Z"
    }
   }
  }
 ],
 "metadata": {
  "kernelspec": {
   "display_name": "Python 3",
   "language": "python",
   "name": "python3"
  },
  "language_info": {
   "codemirror_mode": {
    "name": "ipython",
    "version": 2
   },
   "file_extension": ".py",
   "mimetype": "text/x-python",
   "name": "python",
   "nbconvert_exporter": "python",
   "pygments_lexer": "ipython2",
   "version": "2.7.6"
  }
 },
 "nbformat": 4,
 "nbformat_minor": 0
}
