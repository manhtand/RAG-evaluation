{
 "cells": [
  {
   "cell_type": "code",
   "execution_count": null,
   "metadata": {
    "collapsed": true
   },
   "outputs": [],
   "source": [
    "import nest_asyncio\n",
    "\n",
    "nest_asyncio.apply()\n",
    "\n",
    "import os\n",
    "from llama_index.llms.openai import OpenAI\n",
    "from llama_index.embeddings.huggingface import HuggingFaceEmbedding\n",
    "from llama_index.core.node_parser import SentenceSplitter\n",
    "import pandas as pd\n",
    "from llama_index.core import VectorStoreIndex, SimpleDirectoryReader\n",
    "from llama_index.core import Settings\n",
    "from llama_index.core import PromptTemplate\n",
    "\n",
    "os.environ[\"OPENAI_API_KEY\"] = \"\"\n",
    "\n",
    "llm = OpenAI(model=\"gpt-4o-mini\", temperature=0.0)\n",
    "Settings.embed_model = HuggingFaceEmbedding(model_name=\"BAAI/bge-small-en-v1.5\")\n",
    "\n",
    "documents = SimpleDirectoryReader(\"data\").load_data()\n",
    "splitter = SentenceSplitter(chunk_size=512, chunk_overlap=20)\n",
    "nodes = splitter.get_nodes_from_documents(documents)\n",
    "\n",
    "df = pd.read_csv(\"questions/Lyft2021_queries.csv\")\n",
    "queries = df[\"Query\"].tolist()\n",
    "\n",
    "retriever = VectorStoreIndex(nodes).as_retriever(similarity_top_k=2)"
   ]
  },
  {
   "cell_type": "code",
   "execution_count": null,
   "outputs": [],
   "source": [
    "template = (\n",
    "    \"You are an intelligent assistant. Analyze the following context retrieved for the query:\\n\"\n",
    "    \"Query: {query}\\n\"\n",
    "    \"Context: {retrieved_context}\\n\"\n",
    "\n",
    "    \"Tasks:\\n\"\n",
    "    \"1. Summarize the most relevant information from the context.\\n\"\n",
    "    \"2. Identify any missing information or gaps in the context needed to fully answer the query.\\n\"\n",
    "    \"3. Suggest a refined query to improve retrieval if needed.\\n\"\n",
    "\n",
    "    \"Provide your response in the following format:\\n\"\n",
    "    \"- Refined Query: <summary>. <refined query>\\n\"\n",
    ")\n",
    "\n",
    "context_examination_template = PromptTemplate(template)"
   ],
   "metadata": {
    "collapsed": false
   }
  },
  {
   "cell_type": "code",
   "execution_count": null,
   "outputs": [],
   "source": [
    "def examine_context(query, retrieved_context, llm):\n",
    "    \"\"\"\n",
    "    Prompts the LLM to examine the retrieved context and provide insights.\n",
    "\n",
    "    Args:\n",
    "        query (str): The current query.\n",
    "        retrieved_context (str): Combined text of retrieved documents.\n",
    "        llm: The language model instance.\n",
    "\n",
    "    Returns:\n",
    "        str: The response from the LLM.\n",
    "    \"\"\"\n",
    "    # Use the prompt template to structure the input\n",
    "    formatted_prompt = context_examination_template.format(\n",
    "        query=query,\n",
    "        retrieved_context=retrieved_context\n",
    "    )\n",
    "\n",
    "    # Pass the formatted prompt to the LLM\n",
    "    response = llm.complete(formatted_prompt)\n",
    "    return response"
   ],
   "metadata": {
    "collapsed": false
   }
  },
  {
   "cell_type": "code",
   "execution_count": null,
   "outputs": [],
   "source": [
    "def iterative_retrieval_with_context_examination(initial_query, retriever, llm, max_iterations=3):\n",
    "    current_query = initial_query\n",
    "    all_retrieved_docs = []\n",
    "    refined_queries = []\n",
    "    examination_results = []\n",
    "\n",
    "    for iteration in range(max_iterations):\n",
    "        # Retrieve documents\n",
    "        retrieved_docs = retriever.retrieve(current_query)\n",
    "        retrieved_info = [{\"node_id\": doc.node_id, \"content\": doc.get_content()} for doc in retrieved_docs]\n",
    "        all_retrieved_docs.extend(retrieved_info)\n",
    "\n",
    "        # Combine retrieved content for context\n",
    "        combined_context = \" \".join([doc.get_content() for doc in retrieved_docs])\n",
    "\n",
    "        # Examine the context using the LLM\n",
    "        examination_result = examine_context(current_query, combined_context, llm)\n",
    "        examination_results.append(examination_result)\n",
    "\n",
    "        # Parse the refined query from the examination result\n",
    "        refined_query = examination_result.text.split(\"Refined Query:\")[1].strip()\n",
    "        refined_queries.append(refined_query)\n",
    "\n",
    "        # Update the query for the next iteration\n",
    "        if refined_query == current_query:\n",
    "            print(\"Query stabilized; stopping iterations.\")\n",
    "            break\n",
    "        current_query = refined_query\n",
    "\n",
    "    return all_retrieved_docs, refined_queries, examination_results"
   ],
   "metadata": {
    "collapsed": false
   }
  },
  {
   "cell_type": "code",
   "execution_count": null,
   "outputs": [],
   "source": [
    "qa_dataset = []\n",
    "for query in queries:\n",
    "    retrieved_docs, refined_queries, examination_results = iterative_retrieval_with_context_examination(\n",
    "        query, retriever, llm\n",
    "    )\n",
    "\n",
    "    qa_dataset.append({\n",
    "        \"query\": refined_queries[-1],\n",
    "        \"retrieved_context\": [doc[\"node_id\"] for doc in retrieved_docs]\n",
    "    })"
   ],
   "metadata": {
    "collapsed": false
   }
  },
  {
   "cell_type": "code",
   "execution_count": null,
   "outputs": [],
   "source": [
    "from llama_index.core.evaluation import RetrieverEvaluator\n",
    "\n",
    "metrics = [\"hit_rate\", \"mrr\", \"precision\", \"recall\", \"ap\", \"ndcg\"]\n",
    "evaluator = RetrieverEvaluator.from_metric_names(metrics, retriever=retriever)\n",
    "\n",
    "eval_results = []\n",
    "for entry in qa_dataset:\n",
    "    query = entry[\"query\"]\n",
    "    context = entry[\"retrieved_context\"]\n",
    "\n",
    "    result = evaluator.evaluate(\n",
    "        query=query,\n",
    "        expected_ids=context\n",
    "    )\n",
    "    eval_results.append(result)\n",
    "\n",
    "def display_results(name, eval_results):\n",
    "    metric_dicts = []\n",
    "    for eval_result in eval_results:\n",
    "        metric_dict = eval_result.metric_vals_dict\n",
    "        metric_dicts.append(metric_dict)\n",
    "\n",
    "    full_df = pd.DataFrame(metric_dicts)\n",
    "\n",
    "    columns = {\n",
    "        \"retrievers\": [name],\n",
    "        **{k: [full_df[k].mean()] for k in metrics},\n",
    "    }\n",
    "\n",
    "    metric_df = pd.DataFrame(columns)\n",
    "\n",
    "    return metric_df"
   ],
   "metadata": {
    "collapsed": false
   }
  },
  {
   "cell_type": "code",
   "execution_count": null,
   "outputs": [],
   "source": [
    "display_results(\"iterative retrieval\",  eval_results)"
   ],
   "metadata": {
    "collapsed": false
   }
  }
 ],
 "metadata": {
  "kernelspec": {
   "display_name": "Python 3",
   "language": "python",
   "name": "python3"
  },
  "language_info": {
   "codemirror_mode": {
    "name": "ipython",
    "version": 2
   },
   "file_extension": ".py",
   "mimetype": "text/x-python",
   "name": "python",
   "nbconvert_exporter": "python",
   "pygments_lexer": "ipython2",
   "version": "2.7.6"
  }
 },
 "nbformat": 4,
 "nbformat_minor": 0
}
