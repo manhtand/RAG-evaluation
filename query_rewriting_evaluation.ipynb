{
 "cells": [
  {
   "cell_type": "code",
   "execution_count": null,
   "metadata": {
    "collapsed": true
   },
   "outputs": [],
   "source": [
    "import nest_asyncio\n",
    "\n",
    "nest_asyncio.apply()"
   ]
  },
  {
   "cell_type": "code",
   "execution_count": null,
   "outputs": [],
   "source": [
    "import os\n",
    "from llama_index.llms.openai import OpenAI\n",
    "import pandas as pd\n",
    "\n",
    "os.environ[\"OPENAI_API_KEY\"] = \"\"\n",
    "\n",
    "from llama_index.core import VectorStoreIndex, SimpleDirectoryReader\n",
    "from llama_index.core import Settings\n",
    "\n",
    "documents = SimpleDirectoryReader(\"data\").load_data()\n",
    "Settings.chunk_size = 512\n",
    "Settings.chunk_overlap = 20\n",
    "\n",
    "vector_query_engine = VectorStoreIndex.from_documents(\n",
    "    documents,\n",
    "    use_async=True\n",
    ").as_query_engine()"
   ],
   "metadata": {
    "collapsed": false
   }
  },
  {
   "cell_type": "code",
   "execution_count": null,
   "outputs": [],
   "source": [
    "df = pd.read_csv(\"questions/Lyft2021_rewritten_queries.csv\")\n",
    "queries = df[\"Rewritten Query\"].tolist()"
   ],
   "metadata": {
    "collapsed": false
   }
  },
  {
   "cell_type": "code",
   "execution_count": null,
   "outputs": [],
   "source": [
    "from llama_index.core.evaluation import FaithfulnessEvaluator, RelevancyEvaluator\n",
    "\n",
    "llm = OpenAI(model=\"gpt-4o-mini\", temperature=0.0)\n",
    "f_evaluator = FaithfulnessEvaluator(llm=llm)\n",
    "r_evaluator = RelevancyEvaluator(llm=llm)\n",
    "f_scores = []\n",
    "r_scores = []\n",
    "\n",
    "for query in queries:\n",
    "    response = vector_query_engine.query(query)\n",
    "\n",
    "    f_score = f_evaluator.evaluate_response(response=response).score * 100\n",
    "    r_score = r_evaluator.evaluate_response(query=query, response=response).score * 100\n",
    "    f_scores.append(f_score)\n",
    "    r_scores.append(r_score)\n",
    "\n",
    "avg_f = sum(f_scores) / len(f_scores)\n",
    "avg_r = sum(r_scores) / len(r_scores)\n",
    "\n",
    "print(\"Average Faithfulness Score:\", avg_f)\n",
    "print(\"Average Relevancy Score:\", avg_r)"
   ],
   "metadata": {
    "collapsed": false
   }
  }
 ],
 "metadata": {
  "kernelspec": {
   "display_name": "Python 3",
   "language": "python",
   "name": "python3"
  },
  "language_info": {
   "codemirror_mode": {
    "name": "ipython",
    "version": 2
   },
   "file_extension": ".py",
   "mimetype": "text/x-python",
   "name": "python",
   "nbconvert_exporter": "python",
   "pygments_lexer": "ipython2",
   "version": "2.7.6"
  }
 },
 "nbformat": 4,
 "nbformat_minor": 0
}
