{
 "cells": [
  {
   "cell_type": "code",
   "execution_count": 2,
   "metadata": {
    "collapsed": true,
    "ExecuteTime": {
     "end_time": "2024-12-22T14:31:54.879025400Z",
     "start_time": "2024-12-22T14:31:47.013805300Z"
    }
   },
   "outputs": [],
   "source": [
    "import nest_asyncio\n",
    "\n",
    "nest_asyncio.apply()\n",
    "\n",
    "import os\n",
    "from llama_index.llms.openai import OpenAI\n",
    "import pandas as pd\n",
    "\n",
    "os.environ[\"OPENAI_API_KEY\"] = \"\"\n",
    "\n",
    "from llama_index.core import VectorStoreIndex, SimpleDirectoryReader\n",
    "from llama_index.core import Settings\n",
    "\n",
    "documents = SimpleDirectoryReader(\"data\").load_data()\n",
    "Settings.chunk_size = 512\n",
    "Settings.chunk_overlap = 20\n",
    "\n",
    "query_engine = VectorStoreIndex.from_documents(\n",
    "    documents,\n",
    "    use_async=True\n",
    ").as_query_engine()\n",
    "\n",
    "df = pd.read_csv(\"questions/Lyft2021_queries.csv\")\n",
    "queries = df[\"Query\"].tolist()"
   ]
  },
  {
   "cell_type": "code",
   "execution_count": 3,
   "outputs": [],
   "source": [
    "from llama_index.core.indices.query.query_transform import HyDEQueryTransform\n",
    "from llama_index.core.query_engine import TransformQueryEngine\n",
    "\n",
    "hyde = HyDEQueryTransform(include_original=True)\n",
    "hyde_query_engine = TransformQueryEngine(query_engine, hyde)"
   ],
   "metadata": {
    "collapsed": false,
    "ExecuteTime": {
     "end_time": "2024-12-22T14:31:54.880931200Z",
     "start_time": "2024-12-22T14:31:54.880422500Z"
    }
   }
  },
  {
   "cell_type": "code",
   "execution_count": 4,
   "outputs": [
    {
     "name": "stdout",
     "output_type": "stream",
     "text": [
      "Average Faithfulness Score: 93.0\n",
      "Average Relevancy Score: 93.0\n"
     ]
    }
   ],
   "source": [
    "from llama_index.core.evaluation import FaithfulnessEvaluator, RelevancyEvaluator\n",
    "\n",
    "llm = OpenAI(model=\"gpt-4o-mini\", temperature=0.0)\n",
    "f_evaluator = FaithfulnessEvaluator(llm=llm)\n",
    "r_evaluator = RelevancyEvaluator(llm=llm)\n",
    "f_scores = []\n",
    "r_scores = []\n",
    "\n",
    "for query in queries:\n",
    "    response = hyde_query_engine.query(query)\n",
    "\n",
    "    f_score = f_evaluator.evaluate_response(response=response).score * 100\n",
    "    r_score = r_evaluator.evaluate_response(query=query, response=response).score * 100\n",
    "    f_scores.append(f_score)\n",
    "    r_scores.append(r_score)\n",
    "\n",
    "avg_f = sum(f_scores) / len(f_scores)\n",
    "avg_r = sum(r_scores) / len(r_scores)\n",
    "\n",
    "print(\"Average Faithfulness Score:\", avg_f)\n",
    "print(\"Average Relevancy Score:\", avg_r)"
   ],
   "metadata": {
    "collapsed": false,
    "ExecuteTime": {
     "end_time": "2024-12-22T14:39:50.050791200Z",
     "start_time": "2024-12-22T14:31:54.880931200Z"
    }
   }
  }
 ],
 "metadata": {
  "kernelspec": {
   "display_name": "Python 3",
   "language": "python",
   "name": "python3"
  },
  "language_info": {
   "codemirror_mode": {
    "name": "ipython",
    "version": 2
   },
   "file_extension": ".py",
   "mimetype": "text/x-python",
   "name": "python",
   "nbconvert_exporter": "python",
   "pygments_lexer": "ipython2",
   "version": "2.7.6"
  }
 },
 "nbformat": 4,
 "nbformat_minor": 0
}
