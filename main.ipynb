{
 "cells": [
  {
   "cell_type": "code",
   "execution_count": 22,
   "outputs": [],
   "source": [
    "import nest_asyncio\n",
    "\n",
    "nest_asyncio.apply()"
   ],
   "metadata": {
    "collapsed": false,
    "ExecuteTime": {
     "end_time": "2024-12-21T11:36:10.941884300Z",
     "start_time": "2024-12-21T11:36:10.903874Z"
    }
   }
  },
  {
   "cell_type": "code",
   "execution_count": 23,
   "outputs": [],
   "source": [
    "import getpass\n",
    "import os\n",
    "\n",
    "import pandas as pd\n",
    "from llama_index.llms.openai import OpenAI\n",
    "from langchain_huggingface import HuggingFaceEmbeddings\n",
    "from langchain_core.vectorstores import InMemoryVectorStore\n",
    "\n",
    "os.environ[\"LANGCHAIN_TRACING_V2\"] = \"true\"\n",
    "os.environ[\"LANGCHAIN_API_KEY\"] = \"\"\n",
    "os.environ[\"OPENAI_API_KEY\"] = \"\""
   ],
   "metadata": {
    "collapsed": false,
    "ExecuteTime": {
     "end_time": "2024-12-21T11:36:10.941884300Z",
     "start_time": "2024-12-21T11:36:10.906870500Z"
    }
   }
  },
  {
   "cell_type": "code",
   "execution_count": 24,
   "outputs": [],
   "source": [
    "from llama_index.core import SimpleDirectoryReader\n",
    "documents = SimpleDirectoryReader(\"data\").load_data()"
   ],
   "metadata": {
    "collapsed": false,
    "ExecuteTime": {
     "end_time": "2024-12-21T11:36:16.152237Z",
     "start_time": "2024-12-21T11:36:10.910359900Z"
    }
   }
  },
  {
   "cell_type": "code",
   "execution_count": 25,
   "outputs": [],
   "source": [
    "df = pd.read_csv(\"questions/Lyft2021_100_questions.csv\")\n",
    "queries = df[\"Question\"].tolist()"
   ],
   "metadata": {
    "collapsed": false,
    "ExecuteTime": {
     "end_time": "2024-12-21T11:36:16.157431600Z",
     "start_time": "2024-12-21T11:36:16.153235900Z"
    }
   }
  },
  {
   "cell_type": "code",
   "execution_count": 26,
   "outputs": [],
   "source": [
    "from llama_index.core.node_parser import SentenceWindowNodeParser, SentenceSplitter\n",
    "\n",
    "node_parser = SentenceWindowNodeParser.from_defaults(\n",
    "    window_size=3,\n",
    "    window_metadata_key=\"window\",\n",
    "    original_text_metadata_key=\"original_text\"\n",
    ")\n",
    "\n",
    "text_splitter = SentenceSplitter()\n",
    "llm = OpenAI(model=\"gpt-4o-mini\", temperature=0.0)\n",
    "embed_model = HuggingFaceEmbeddings(\n",
    "    model_name=\"sentence-transformers/all-mpnet-base-v2\", max_length=512\n",
    ")\n",
    "\n",
    "from llama_index.core import Settings\n",
    "Settings.llm = llm\n",
    "Settings.embed_model = embed_model\n",
    "Settings.text_splitter = text_splitter"
   ],
   "metadata": {
    "collapsed": false,
    "ExecuteTime": {
     "end_time": "2024-12-21T11:36:16.488230200Z",
     "start_time": "2024-12-21T11:36:16.159435200Z"
    }
   }
  },
  {
   "cell_type": "code",
   "execution_count": null,
   "outputs": [],
   "source": [
    "nodes = node_parser.get_nodes_from_documents(documents)\n",
    "base_nodes = text_splitter.get_nodes_from_documents(documents)\n",
    "\n",
    "from llama_index.core import VectorStoreIndex\n",
    "\n",
    "sentence_index = VectorStoreIndex(nodes)\n",
    "base_index = VectorStoreIndex(base_nodes)"
   ],
   "metadata": {
    "collapsed": false
   }
  },
  {
   "cell_type": "code",
   "execution_count": null,
   "outputs": [],
   "source": [
    "from llama_index.core.postprocessor import MetadataReplacementPostProcessor"
   ],
   "metadata": {
    "collapsed": false
   }
  },
  {
   "cell_type": "code",
   "execution_count": null,
   "outputs": [],
   "source": [
    "from llama_index.core.evaluation import FaithfulnessEvaluator, RelevancyEvaluator\n",
    "\n",
    "f_evaluator = FaithfulnessEvaluator(index=vector_index_chunk)\n",
    "r_evaluator = RelevancyEvaluator(index=vector_index_chunk)\n",
    "f_scores = []\n",
    "r_scores = []\n",
    "\n",
    "for query in queries[:10]:\n",
    "    response = query_engine_chunk.query(query)\n",
    "\n",
    "    if response and response.source_nodes:\n",
    "        contexts = [node.get_content() for node in response.source_nodes]\n",
    "\n",
    "        f_score = f_evaluator.evaluate_response(response=response).score * 100\n",
    "        r_score = r_evaluator.evaluate_response(query=query, response=response).score * 100\n",
    "        f_scores.append(f_score)\n",
    "        r_scores.append(r_score)\n",
    "    else:\n",
    "        print(f\"skipping\")\n",
    "\n",
    "avg_f = sum(f_scores) / len(f_scores)\n",
    "avg_r = sum(r_scores) / len(r_scores)\n",
    "\n",
    "print(\"Average Faithfulness Score:\", avg_f)\n",
    "print(\"Average Relevancy Score:\", avg_r)"
   ],
   "metadata": {
    "collapsed": false
   }
  }
 ],
 "metadata": {
  "kernelspec": {
   "display_name": "Python 3",
   "language": "python",
   "name": "python3"
  },
  "language_info": {
   "codemirror_mode": {
    "name": "ipython",
    "version": 2
   },
   "file_extension": ".py",
   "mimetype": "text/x-python",
   "name": "python",
   "nbconvert_exporter": "python",
   "pygments_lexer": "ipython2",
   "version": "2.7.6"
  }
 },
 "nbformat": 4,
 "nbformat_minor": 0
}
